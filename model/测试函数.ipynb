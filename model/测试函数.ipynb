{
 "cells": [
  {
   "cell_type": "code",
   "execution_count": 1,
   "id": "6e938f10-3b3d-437e-a458-39761c64c255",
   "metadata": {},
   "outputs": [],
   "source": [
    "import pandas as pd\n",
    "from PIL import Image\n",
    "import matplotlib.pyplot as plt\n",
    "import torch\n",
    "import torch.nn as nn\n",
    "from collections import Counter \n",
    "import math\n",
    "import random\n",
    "from torchvision import transforms"
   ]
  },
  {
   "cell_type": "code",
   "execution_count": 20,
   "id": "3b37f2ec-2673-4e2e-b2eb-7ee73d729237",
   "metadata": {},
   "outputs": [],
   "source": [
    "# device = torch.device(\"cuda\" if torch.cuda.is_available() else \"cpu\")\n",
    "device = torch.device(\"cpu\")"
   ]
  },
  {
   "cell_type": "code",
   "execution_count": 2,
   "id": "7f887091-5555-4a4a-8831-02776ae51e54",
   "metadata": {},
   "outputs": [],
   "source": [
    "max_seq_len = 33"
   ]
  },
  {
   "cell_type": "code",
   "execution_count": 3,
   "id": "d8e61842-961b-4c86-bb5e-64b81e236338",
   "metadata": {},
   "outputs": [],
   "source": [
    "df = pd.read_csv(\"./captions.txt\", sep=',')"
   ]
  },
  {
   "cell_type": "code",
   "execution_count": 4,
   "id": "f17b6b27-5086-4294-8c0d-dedbc20d492f",
   "metadata": {},
   "outputs": [],
   "source": [
    "valid = df.iloc[int(0.9*len(df)):]"
   ]
  },
  {
   "cell_type": "code",
   "execution_count": 5,
   "id": "0bcf83fd-47f6-4d70-8d7e-24f1fabcd8e6",
   "metadata": {},
   "outputs": [],
   "source": [
    "unq_valid_imgs = valid[['image']].drop_duplicates()"
   ]
  },
  {
   "cell_type": "code",
   "execution_count": 21,
   "id": "7391e37b-aa8a-4c8f-8c2a-6c47afa7de2b",
   "metadata": {},
   "outputs": [],
   "source": [
    "# def generate_caption(K, img_nm): \n",
    "#     img_loc = './Images/'+str(img_nm)\n",
    "#     image = Image.open(img_loc).convert(\"RGB\")\n",
    "#     # plt.imshow(image)\n",
    "\n",
    "#     model.eval() \n",
    "#     valid_img_df = valid[valid['image']==img_nm]\n",
    "#     print(\"Actual Caption : \")\n",
    "#     print(valid_img_df['caption'].tolist())\n",
    "#     img_embed = valid_img_embed[img_nm].to(device)\n",
    "\n",
    "\n",
    "#     img_embed = img_embed.permute(0,2,3,1)\n",
    "#     img_embed = img_embed.view(img_embed.size(0), -1, img_embed.size(3))\n",
    "\n",
    "\n",
    "#     input_seq = [pad_token]*max_seq_len\n",
    "#     input_seq[0] = start_token\n",
    "\n",
    "#     input_seq = torch.tensor(input_seq).unsqueeze(0).to(device)\n",
    "#     predicted_sentence = []\n",
    "#     with torch.no_grad():\n",
    "#         for eval_iter in range(0, max_seq_len):\n",
    "\n",
    "#             output, padding_mask = model.forward(img_embed, input_seq)\n",
    "\n",
    "#             output = output[eval_iter, 0, :]\n",
    "\n",
    "#             values = torch.topk(output, K).values.tolist()\n",
    "#             indices = torch.topk(output, K).indices.tolist()\n",
    "\n",
    "#             next_word_index = random.choices(indices, values, k = 1)[0]\n",
    "\n",
    "#             next_word = index_to_word[next_word_index]\n",
    "\n",
    "#             input_seq[:, eval_iter+1] = next_word_index\n",
    "\n",
    "\n",
    "#             if next_word == '<end>' :\n",
    "#                 break\n",
    "\n",
    "#             predicted_sentence.append(next_word)\n",
    "#     print(\"\\n\")\n",
    "#     print(\"Predicted caption : \")\n",
    "#     a = \" \".join(predicted_sentence+['.'])\n",
    "#     print(a)\n",
    "#     return a\n"
   ]
  },
  {
   "cell_type": "code",
   "execution_count": 22,
   "id": "836047f0-af5c-43bd-81d3-eb329e57501d",
   "metadata": {},
   "outputs": [],
   "source": [
    "class PositionalEncoding(nn.Module):\n",
    "\n",
    "    def __init__(self, d_model, dropout=0.1, max_len=max_seq_len):\n",
    "        super(PositionalEncoding, self).__init__()\n",
    "        self.dropout = nn.Dropout(p=dropout)\n",
    "\n",
    "        pe = torch.zeros(max_len, d_model)\n",
    "        position = torch.arange(0, max_len, dtype=torch.float).unsqueeze(1)\n",
    "        div_term = torch.exp(torch.arange(0, d_model, 2).float() * (-math.log(10000.0) / d_model))\n",
    "        pe[:, 0::2] = torch.sin(position * div_term)\n",
    "        pe[:, 1::2] = torch.cos(position * div_term)\n",
    "        pe = pe.unsqueeze(0)\n",
    "        self.register_buffer('pe', pe)\n",
    "        \n",
    "\n",
    "    def forward(self, x):\n",
    "        if self.pe.size(0) < x.size(0):\n",
    "            self.pe = self.pe.repeat(x.size(0), 1, 1).to(device)\n",
    "        self.pe = self.pe[:x.size(0), : , : ]\n",
    "        \n",
    "        x = x + self.pe\n",
    "        return self.dropout(x)"
   ]
  },
  {
   "cell_type": "code",
   "execution_count": 23,
   "id": "778f46f1-b7f2-42e5-95f9-1de41663f626",
   "metadata": {},
   "outputs": [],
   "source": [
    "class ImageCaptionModel(nn.Module):\n",
    "    def __init__(self, n_head, n_decoder_layer, vocab_size, embedding_size):\n",
    "        super(ImageCaptionModel, self).__init__()\n",
    "        self.pos_encoder = PositionalEncoding(embedding_size, 0.1)\n",
    "        self.TransformerDecoderLayer = nn.TransformerDecoderLayer(d_model =  embedding_size, nhead = n_head)\n",
    "        self.TransformerDecoder = nn.TransformerDecoder(decoder_layer = self.TransformerDecoderLayer, num_layers = n_decoder_layer)\n",
    "        self.embedding_size = embedding_size\n",
    "        self.embedding = nn.Embedding(vocab_size , embedding_size)\n",
    "        self.last_linear_layer = nn.Linear(embedding_size, vocab_size)\n",
    "        self.init_weights()\n",
    "\n",
    "    def init_weights(self):\n",
    "        initrange = 0.1\n",
    "        self.embedding.weight.data.uniform_(-initrange, initrange)\n",
    "        self.last_linear_layer.bias.data.zero_()\n",
    "        self.last_linear_layer.weight.data.uniform_(-initrange, initrange)\n",
    "\n",
    "    def generate_Mask(self, size, decoder_inp):\n",
    "        decoder_input_mask = (torch.triu(torch.ones(size, size)) == 1).transpose(0, 1)\n",
    "        decoder_input_mask = decoder_input_mask.float().masked_fill(decoder_input_mask == 0, float('-inf')).masked_fill(decoder_input_mask == 1, float(0.0))\n",
    "\n",
    "        decoder_input_pad_mask = decoder_inp.float().masked_fill(decoder_inp == 0, float(0.0)).masked_fill(decoder_inp > 0, float(1.0))\n",
    "        decoder_input_pad_mask_bool = decoder_inp == 0\n",
    "\n",
    "        return decoder_input_mask, decoder_input_pad_mask, decoder_input_pad_mask_bool\n",
    "\n",
    "    def forward(self, encoded_image, decoder_inp):\n",
    "        encoded_image = encoded_image.permute(1,0,2)\n",
    "        \n",
    "\n",
    "        decoder_inp_embed = self.embedding(decoder_inp)* math.sqrt(self.embedding_size)\n",
    "        \n",
    "        decoder_inp_embed = self.pos_encoder(decoder_inp_embed)\n",
    "        decoder_inp_embed = decoder_inp_embed.permute(1,0,2)\n",
    "        \n",
    "\n",
    "        decoder_input_mask, decoder_input_pad_mask, decoder_input_pad_mask_bool = self.generate_Mask(decoder_inp.size(1), decoder_inp)\n",
    "        decoder_input_mask = decoder_input_mask.to(device)\n",
    "        decoder_input_pad_mask = decoder_input_pad_mask.to(device)\n",
    "        decoder_input_pad_mask_bool = decoder_input_pad_mask_bool.to(device)\n",
    "        \n",
    "\n",
    "        decoder_output = self.TransformerDecoder(tgt = decoder_inp_embed, memory = encoded_image, tgt_mask = decoder_input_mask, tgt_key_padding_mask = decoder_input_pad_mask_bool)\n",
    "        \n",
    "        final_output = self.last_linear_layer(decoder_output)\n",
    "\n",
    "        return final_output,  decoder_input_pad_mask"
   ]
  },
  {
   "cell_type": "code",
   "execution_count": 24,
   "id": "673eceda-7a2d-425c-a500-b7ebb6f1960b",
   "metadata": {},
   "outputs": [
    {
     "name": "stdout",
     "output_type": "stream",
     "text": [
      "40455\n"
     ]
    },
    {
     "data": {
      "text/html": [
       "<div>\n",
       "<style scoped>\n",
       "    .dataframe tbody tr th:only-of-type {\n",
       "        vertical-align: middle;\n",
       "    }\n",
       "\n",
       "    .dataframe tbody tr th {\n",
       "        vertical-align: top;\n",
       "    }\n",
       "\n",
       "    .dataframe thead th {\n",
       "        text-align: right;\n",
       "    }\n",
       "</style>\n",
       "<table border=\"1\" class=\"dataframe\">\n",
       "  <thead>\n",
       "    <tr style=\"text-align: right;\">\n",
       "      <th></th>\n",
       "      <th>image</th>\n",
       "      <th>caption</th>\n",
       "    </tr>\n",
       "  </thead>\n",
       "  <tbody>\n",
       "    <tr>\n",
       "      <th>0</th>\n",
       "      <td>1000268201_693b08cb0e.jpg</td>\n",
       "      <td>A child in a pink dress is climbing up a set o...</td>\n",
       "    </tr>\n",
       "    <tr>\n",
       "      <th>1</th>\n",
       "      <td>1000268201_693b08cb0e.jpg</td>\n",
       "      <td>A girl going into a wooden building .</td>\n",
       "    </tr>\n",
       "    <tr>\n",
       "      <th>2</th>\n",
       "      <td>1000268201_693b08cb0e.jpg</td>\n",
       "      <td>A little girl climbing into a wooden playhouse .</td>\n",
       "    </tr>\n",
       "  </tbody>\n",
       "</table>\n",
       "</div>"
      ],
      "text/plain": [
       "                       image  \\\n",
       "0  1000268201_693b08cb0e.jpg   \n",
       "1  1000268201_693b08cb0e.jpg   \n",
       "2  1000268201_693b08cb0e.jpg   \n",
       "\n",
       "                                             caption  \n",
       "0  A child in a pink dress is climbing up a set o...  \n",
       "1              A girl going into a wooden building .  \n",
       "2   A little girl climbing into a wooden playhouse .  "
      ]
     },
     "metadata": {},
     "output_type": "display_data"
    },
    {
     "name": "stdout",
     "output_type": "stream",
     "text": [
      "33\n"
     ]
    }
   ],
   "source": [
    "#删除掉长度小于1的单词\n",
    "def remove_single_char_word(word_list):\n",
    "    lst = []\n",
    "    for word in word_list:\n",
    "        if len(word)>1:\n",
    "            lst.append(word)\n",
    "\n",
    "    return lst\n",
    "df = pd.read_csv(\"./captions.txt\", sep=',')\n",
    "print(len(df))\n",
    "display(df.head(3))\n",
    "#数据清洗，增加起始符和结束符\n",
    "df['cleaned_caption'] = df['caption'].apply(lambda caption : ['<start>'] + [word.lower() if word.isalpha() else '' for word in caption.split(\" \")] + ['<end>'])\n",
    "df['cleaned_caption']  = df['cleaned_caption'].apply(lambda x : remove_single_char_word(x))\n",
    "df['seq_len'] = df['cleaned_caption'].apply(lambda x : len(x))\n",
    "max_seq_len = df['seq_len'].max()\n",
    "print(max_seq_len)\n",
    "#序列填充\n",
    "df.drop(['seq_len'], axis = 1, inplace = True)\n",
    "df['cleaned_caption'] = df['cleaned_caption'].apply(lambda caption : caption + ['<pad>']*(max_seq_len-len(caption)) )"
   ]
  },
  {
   "cell_type": "code",
   "execution_count": 25,
   "id": "05152481-8512-427b-8706-5f748fe2ca78",
   "metadata": {},
   "outputs": [],
   "source": [
    "word_list = df['cleaned_caption'].apply(lambda x : \" \".join(x)).str.cat(sep = ' ').split(' ')\n",
    "word_dict = Counter(word_list)\n",
    "word_dict =  sorted(word_dict, key=word_dict.get, reverse=True)"
   ]
  },
  {
   "cell_type": "code",
   "execution_count": 26,
   "id": "004ea4b7-0199-40e6-838d-06892f674bb9",
   "metadata": {},
   "outputs": [],
   "source": [
    "word_to_index = {word: index for index, word in enumerate(word_dict)}"
   ]
  },
  {
   "cell_type": "code",
   "execution_count": 27,
   "id": "f9f6d267-b984-4c32-9237-242217b219c0",
   "metadata": {},
   "outputs": [
    {
     "name": "stdout",
     "output_type": "stream",
     "text": [
      "['<pad>', '<start>', '<end>', 'in', 'the']\n"
     ]
    }
   ],
   "source": [
    "print(word_dict[:5])"
   ]
  },
  {
   "cell_type": "code",
   "execution_count": 35,
   "id": "dafdd70e-d53e-4bdd-b0c4-5197c68a3928",
   "metadata": {},
   "outputs": [
    {
     "name": "stderr",
     "output_type": "stream",
     "text": [
      "/tmp/ipykernel_8291/242685745.py:1: FutureWarning: You are using `torch.load` with `weights_only=False` (the current default value), which uses the default pickle module implicitly. It is possible to construct malicious pickle data which will execute arbitrary code during unpickling (See https://github.com/pytorch/pytorch/blob/main/SECURITY.md#untrusted-models for more details). In a future release, the default value for `weights_only` will be flipped to `True`. This limits the functions that could be executed during unpickling. Arbitrary objects will no longer be allowed to be loaded via this mode unless they are explicitly allowlisted by the user via `torch.serialization.add_safe_globals`. We recommend you start setting `weights_only=True` for any use case where you don't have full control of the loaded file. Please open an issue on GitHub for any issues related to this experimental feature.\n",
      "  model = torch.load('./BestModel')\n"
     ]
    },
    {
     "name": "stdout",
     "output_type": "stream",
     "text": [
      "1 2 0\n"
     ]
    }
   ],
   "source": [
    "model = torch.load('./BestModel')\n",
    "model = model.to(device)\n",
    "start_token = word_to_index['<start>']\n",
    "end_token = word_to_index['<end>']\n",
    "pad_token = word_to_index['<pad>']\n",
    "max_seq_len = 33\n",
    "print(start_token, end_token, pad_token)"
   ]
  },
  {
   "cell_type": "code",
   "execution_count": 36,
   "id": "cd714759-92ca-4e0c-b39c-9601c5f7f83b",
   "metadata": {},
   "outputs": [],
   "source": [
    "valid_img_embed = pd.read_pickle('EncodedImageValidResNet.pkl')"
   ]
  },
  {
   "cell_type": "code",
   "execution_count": 37,
   "id": "eecf2597-08a2-45dd-91da-93edb85e70bf",
   "metadata": {},
   "outputs": [],
   "source": [
    "# device = torch.device(\"cuda\" if torch.cuda.is_available() else \"cpu\")\n",
    "device = torch.device(\"cpu\")"
   ]
  },
  {
   "cell_type": "code",
   "execution_count": 38,
   "id": "ae796628-23df-42c1-a448-849d6eeef834",
   "metadata": {},
   "outputs": [],
   "source": [
    "index_to_word = {index: word for index, word in enumerate(word_dict)}"
   ]
  },
  {
   "cell_type": "code",
   "execution_count": 39,
   "id": "fe67331e-b860-4a53-8fa3-f814909717b8",
   "metadata": {},
   "outputs": [
    {
     "data": {
      "text/plain": [
       "'449287870_f17fb825d7.jpg'"
      ]
     },
     "execution_count": 39,
     "metadata": {},
     "output_type": "execute_result"
    }
   ],
   "source": [
    "unq_valid_imgs.iloc[50]['image']"
   ]
  },
  {
   "cell_type": "code",
   "execution_count": 40,
   "id": "84a8305d-da93-4c4c-b431-3bb9ae7c9c33",
   "metadata": {},
   "outputs": [],
   "source": [
    "def generate_caption(K, img_nm): \n",
    "    img_loc = './Images/'+str(img_nm)\n",
    "    image = Image.open(img_loc).convert(\"RGB\")\n",
    "    # plt.imshow(image)\n",
    "\n",
    "    model.eval() \n",
    "    img_embed = valid_img_embed[img_nm].to(device)\n",
    "\n",
    "\n",
    "    img_embed = img_embed.permute(0,2,3,1)\n",
    "    img_embed = img_embed.view(img_embed.size(0), -1, img_embed.size(3))\n",
    "\n",
    "\n",
    "    input_seq = [pad_token]*max_seq_len\n",
    "    input_seq[0] = start_token\n",
    "\n",
    "    input_seq = torch.tensor(input_seq).unsqueeze(0).to(device)\n",
    "    predicted_sentence = []\n",
    "    with torch.no_grad():\n",
    "        for eval_iter in range(0, max_seq_len):\n",
    "\n",
    "            output, padding_mask = model.forward(img_embed, input_seq)\n",
    "\n",
    "            output = output[eval_iter, 0, :]\n",
    "\n",
    "            values = torch.topk(output, K).values.tolist()\n",
    "            indices = torch.topk(output, K).indices.tolist()\n",
    "\n",
    "            next_word_index = random.choices(indices, values, k = 1)[0]\n",
    "\n",
    "            next_word = index_to_word[next_word_index]\n",
    "\n",
    "            input_seq[:, eval_iter+1] = next_word_index\n",
    "\n",
    "\n",
    "            if next_word == '<end>' :\n",
    "                break\n",
    "\n",
    "            predicted_sentence.append(next_word)\n",
    "    print(\"\\n\")\n",
    "    print(\"Predicted caption : \")\n",
    "    a = \" \".join(predicted_sentence+['.'])\n",
    "    print(a)\n",
    "    return a\n"
   ]
  },
  {
   "cell_type": "code",
   "execution_count": 41,
   "id": "e1d7acd9-2df7-4d92-aa6e-34f9ef28dca1",
   "metadata": {},
   "outputs": [
    {
     "name": "stdout",
     "output_type": "stream",
     "text": [
      "\n",
      "\n",
      "Predicted caption : \n",
      "little girl in pink shirt is jumping on playground .\n"
     ]
    },
    {
     "name": "stderr",
     "output_type": "stream",
     "text": [
      "/home/baizhen/anaconda3/lib/python3.11/site-packages/torch/nn/functional.py:5849: UserWarning: Support for mismatched key_padding_mask and attn_mask is deprecated. Use same type for both instead.\n",
      "  warnings.warn(\n"
     ]
    }
   ],
   "source": [
    "a = generate_caption(1, unq_valid_imgs.iloc[50]['image'])"
   ]
  },
  {
   "cell_type": "code",
   "execution_count": 26,
   "id": "a1909465-4a6a-4a4e-ae87-1b24fed7cfb0",
   "metadata": {},
   "outputs": [
    {
     "data": {
      "text/plain": [
       "'little girl in pink shirt is jumping on playground .'"
      ]
     },
     "execution_count": 26,
     "metadata": {},
     "output_type": "execute_result"
    }
   ],
   "source": []
  },
  {
   "cell_type": "code",
   "execution_count": null,
   "id": "0ac88268-5484-425f-a15e-9daa0ab6cf81",
   "metadata": {},
   "outputs": [],
   "source": []
  }
 ],
 "metadata": {
  "kernelspec": {
   "display_name": "Python 3 (ipykernel)",
   "language": "python",
   "name": "python3"
  },
  "language_info": {
   "codemirror_mode": {
    "name": "ipython",
    "version": 3
   },
   "file_extension": ".py",
   "mimetype": "text/x-python",
   "name": "python",
   "nbconvert_exporter": "python",
   "pygments_lexer": "ipython3",
   "version": "3.11.7"
  }
 },
 "nbformat": 4,
 "nbformat_minor": 5
}
